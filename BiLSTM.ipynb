{
 "cells": [
  {
   "cell_type": "code",
   "execution_count": 1,
   "id": "fd399cc1",
   "metadata": {},
   "outputs": [
    {
     "name": "stderr",
     "output_type": "stream",
     "text": [
      "Using backend: pytorch\n"
     ]
    }
   ],
   "source": [
    "import pandas as pd\n",
    "import numpy as np\n",
    "import seaborn as sns\n",
    "import matplotlib.pyplot as plt\n",
    "\n",
    "from scripts.model import BiLSTM\n",
    "import torch as th\n",
    "import torch.nn as nn\n",
    "from transformers import AdamW, get_linear_schedule_with_warmup\n",
    "from scripts.dataset import create_data_loader\n",
    "from scripts.model_utils import train, train_epoch, eval_model\n",
    "from scripts.data_prepare import aggregate_tweets_on_user_level\n",
    "BEST_MODEL_EN = 'best_model_state_en.bin'\n",
    "BEST_MODEL_ES = 'best_model_state_es.bin'"
   ]
  },
  {
   "cell_type": "code",
   "execution_count": 2,
   "id": "6cf907db",
   "metadata": {},
   "outputs": [
    {
     "name": "stdin",
     "output_type": "stream",
     "text": [
      "Please input 'en' for English or 'es' for Spanish: en\n"
     ]
    }
   ],
   "source": [
    "language = input(\"Please input 'en' for English or 'es' for Spanish:\")\n",
    "if language == 'en':\n",
    "    best_model_path = BEST_MODEL_EN\n",
    "else:\n",
    "    best_model_path = BEST_MODEL_ES"
   ]
  },
  {
   "cell_type": "code",
   "execution_count": 3,
   "id": "6f20821d",
   "metadata": {},
   "outputs": [],
   "source": [
    "df = aggregate_tweets_on_user_level()\n",
    "model = BiLSTM()"
   ]
  },
  {
   "cell_type": "code",
   "execution_count": 4,
   "id": "82966258",
   "metadata": {},
   "outputs": [],
   "source": [
    "from transformers import DistilBertTokenizer\n",
    "from transformers import DistilBertModel, DistilBertConfig\n",
    "url = 'sentence-transformers/distiluse-base-multilingual-cased-v1'\n",
    "tokenizer = DistilBertTokenizer.from_pretrained(url)"
   ]
  },
  {
   "cell_type": "code",
   "execution_count": 5,
   "id": "9920b5e8",
   "metadata": {},
   "outputs": [],
   "source": [
    "from sklearn.model_selection import train_test_split\n",
    "RANDOM_SEED = 42\n",
    "MAX_LEN = 256"
   ]
  },
  {
   "cell_type": "code",
   "execution_count": 6,
   "id": "1cbfb4c0",
   "metadata": {},
   "outputs": [],
   "source": [
    "df_train, df_test = train_test_split(\n",
    "  df,\n",
    "  test_size=0.2,\n",
    "  random_state=RANDOM_SEED\n",
    ")\n",
    "\n",
    "df_val, df_test = train_test_split(\n",
    "  df_test,\n",
    "  test_size=0.5,\n",
    "  random_state=RANDOM_SEED\n",
    ")"
   ]
  },
  {
   "cell_type": "code",
   "execution_count": 7,
   "id": "3096f93c",
   "metadata": {},
   "outputs": [],
   "source": [
    "BATCH_SIZE = 16\n",
    "train_data_loader = create_data_loader(df_train, tokenizer, MAX_LEN, BATCH_SIZE)\n",
    "val_data_loader = create_data_loader(df_val, tokenizer, MAX_LEN, BATCH_SIZE)\n",
    "test_data_loader = create_data_loader(df_test, tokenizer, MAX_LEN, BATCH_SIZE)"
   ]
  },
  {
   "cell_type": "code",
   "execution_count": 8,
   "id": "63c31270",
   "metadata": {},
   "outputs": [],
   "source": [
    "EPOCHS = 10\n",
    "optimizer = AdamW(model.parameters(), lr=2e-5, correct_bias=False)\n",
    "total_steps = len(train_data_loader) * EPOCHS\n",
    "scheduler = get_linear_schedule_with_warmup(\n",
    "    optimizer,\n",
    "    num_warmup_steps=0,\n",
    "    num_training_steps=total_steps\n",
    ")\n",
    "loss_fn = nn.BCELoss()"
   ]
  },
  {
   "cell_type": "code",
   "execution_count": 9,
   "id": "457e8fb3",
   "metadata": {},
   "outputs": [
    {
     "name": "stdout",
     "output_type": "stream",
     "text": [
      "Epoch 1/10\n",
      "----------\n",
      "Train loss 0.6969075500965118 accuracy 0.525\n",
      "Val   loss 0.6978372037410736 accuracy 0.55\n",
      "\n",
      "Epoch 2/10\n",
      "----------\n",
      "Train loss 0.7055942058563233 accuracy 0.525\n",
      "Val   loss 0.6911990940570831 accuracy 0.55\n",
      "\n",
      "Epoch 3/10\n",
      "----------\n",
      "Train loss 0.6937666714191437 accuracy 0.525\n",
      "Val   loss 0.6912884712219238 accuracy 0.55\n",
      "\n",
      "Epoch 4/10\n",
      "----------\n",
      "Train loss 0.6940553724765778 accuracy 0.525\n",
      "Val   loss 0.6912746131420135 accuracy 0.55\n",
      "\n",
      "Epoch 5/10\n",
      "----------\n",
      "Train loss 0.6918606400489807 accuracy 0.525\n",
      "Val   loss 0.6912793517112732 accuracy 0.55\n",
      "\n",
      "Epoch 6/10\n",
      "----------\n",
      "Train loss 0.6926493763923645 accuracy 0.525\n",
      "Val   loss 0.691266655921936 accuracy 0.55\n",
      "\n",
      "Epoch 7/10\n",
      "----------\n",
      "Train loss 0.6928125500679017 accuracy 0.525\n",
      "Val   loss 0.6912993788719177 accuracy 0.55\n",
      "\n",
      "Epoch 8/10\n",
      "----------\n",
      "Train loss 0.6910923421382904 accuracy 0.525\n",
      "Val   loss 0.69130539894104 accuracy 0.55\n",
      "\n",
      "Epoch 9/10\n",
      "----------\n",
      "Train loss 0.6923641502857208 accuracy 0.525\n",
      "Val   loss 0.6913053095340729 accuracy 0.55\n",
      "\n",
      "Epoch 10/10\n",
      "----------\n",
      "Train loss 0.6912917256355285 accuracy 0.525\n",
      "Val   loss 0.6913039088249207 accuracy 0.55\n",
      "\n"
     ]
    }
   ],
   "source": [
    "# model training\n",
    "train(language,\n",
    "          df_train,\n",
    "          df_val,\n",
    "          train_data_loader,\n",
    "          val_data_loader,\n",
    "          model,\n",
    "          EPOCHS,\n",
    "          loss_fn,\n",
    "          optimizer,\n",
    "          scheduler)"
   ]
  },
  {
   "cell_type": "code",
   "execution_count": 10,
   "id": "85e7bb3e",
   "metadata": {},
   "outputs": [
    {
     "data": {
      "text/plain": [
       "<All keys matched successfully>"
      ]
     },
     "execution_count": 10,
     "metadata": {},
     "output_type": "execute_result"
    }
   ],
   "source": [
    "model = BiLSTM()\n",
    "model.load_state_dict(th.load(BEST_MODEL_EN))"
   ]
  },
  {
   "cell_type": "code",
   "execution_count": 11,
   "id": "bf8330af",
   "metadata": {},
   "outputs": [],
   "source": [
    "from scripts.model_utils import get_predictions\n",
    "from sklearn.metrics import confusion_matrix, classification_report\n",
    "y_review_texts, y_pred, y_pred_probs, y_test = get_predictions(model, test_data_loader)"
   ]
  },
  {
   "cell_type": "code",
   "execution_count": 12,
   "id": "acad9179",
   "metadata": {},
   "outputs": [
    {
     "name": "stdout",
     "output_type": "stream",
     "text": [
      "              precision    recall  f1-score   support\n",
      "\n",
      "           0       0.25      1.00      0.40         5\n",
      "           1       0.00      0.00      0.00        15\n",
      "\n",
      "    accuracy                           0.25        20\n",
      "   macro avg       0.12      0.50      0.20        20\n",
      "weighted avg       0.06      0.25      0.10        20\n",
      "\n"
     ]
    },
    {
     "name": "stderr",
     "output_type": "stream",
     "text": [
      "D:\\Anaconda\\envs\\base2\\lib\\site-packages\\sklearn\\metrics\\_classification.py:1308: UndefinedMetricWarning: Precision and F-score are ill-defined and being set to 0.0 in labels with no predicted samples. Use `zero_division` parameter to control this behavior.\n",
      "  _warn_prf(average, modifier, msg_start, len(result))\n",
      "D:\\Anaconda\\envs\\base2\\lib\\site-packages\\sklearn\\metrics\\_classification.py:1308: UndefinedMetricWarning: Precision and F-score are ill-defined and being set to 0.0 in labels with no predicted samples. Use `zero_division` parameter to control this behavior.\n",
      "  _warn_prf(average, modifier, msg_start, len(result))\n",
      "D:\\Anaconda\\envs\\base2\\lib\\site-packages\\sklearn\\metrics\\_classification.py:1308: UndefinedMetricWarning: Precision and F-score are ill-defined and being set to 0.0 in labels with no predicted samples. Use `zero_division` parameter to control this behavior.\n",
      "  _warn_prf(average, modifier, msg_start, len(result))\n"
     ]
    }
   ],
   "source": [
    "print(classification_report(y_test, y_pred, target_names=['0','1']))"
   ]
  },
  {
   "cell_type": "code",
   "execution_count": null,
   "id": "b8d4e3c5",
   "metadata": {},
   "outputs": [],
   "source": []
  }
 ],
 "metadata": {
  "kernelspec": {
   "display_name": "Python 3 (ipykernel)",
   "language": "python",
   "name": "python3"
  },
  "language_info": {
   "codemirror_mode": {
    "name": "ipython",
    "version": 3
   },
   "file_extension": ".py",
   "mimetype": "text/x-python",
   "name": "python",
   "nbconvert_exporter": "python",
   "pygments_lexer": "ipython3",
   "version": "3.7.9"
  }
 },
 "nbformat": 4,
 "nbformat_minor": 5
}
